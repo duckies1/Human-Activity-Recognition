{
 "cells": [
  {
   "cell_type": "code",
   "execution_count": 1,
   "metadata": {},
   "outputs": [],
   "source": [
    "import numpy as np\n",
    "import pandas as pd\n",
    "import matplotlib.pyplot as plt"
   ]
  },
  {
   "cell_type": "code",
   "execution_count": 2,
   "metadata": {},
   "outputs": [
    {
     "data": {
      "text/html": [
       "<div>\n",
       "<style scoped>\n",
       "    .dataframe tbody tr th:only-of-type {\n",
       "        vertical-align: middle;\n",
       "    }\n",
       "\n",
       "    .dataframe tbody tr th {\n",
       "        vertical-align: top;\n",
       "    }\n",
       "\n",
       "    .dataframe thead th {\n",
       "        text-align: right;\n",
       "    }\n",
       "</style>\n",
       "<table border=\"1\" class=\"dataframe\">\n",
       "  <thead>\n",
       "    <tr style=\"text-align: right;\">\n",
       "      <th></th>\n",
       "      <th>user</th>\n",
       "      <th>timestamp</th>\n",
       "      <th>x-axis</th>\n",
       "      <th>y-axis</th>\n",
       "      <th>z-axis</th>\n",
       "      <th>magnitude</th>\n",
       "      <th>v_x</th>\n",
       "      <th>v_y</th>\n",
       "      <th>v_z</th>\n",
       "      <th>a_x</th>\n",
       "      <th>a_y</th>\n",
       "      <th>a_z</th>\n",
       "      <th>activity_Downstairs</th>\n",
       "      <th>activity_Jogging</th>\n",
       "      <th>activity_Sitting</th>\n",
       "      <th>activity_Standing</th>\n",
       "      <th>activity_Upstairs</th>\n",
       "      <th>activity_Walking</th>\n",
       "    </tr>\n",
       "  </thead>\n",
       "  <tbody>\n",
       "    <tr>\n",
       "      <th>3</th>\n",
       "      <td>1</td>\n",
       "      <td>13</td>\n",
       "      <td>-2</td>\n",
       "      <td>5</td>\n",
       "      <td>0</td>\n",
       "      <td>5</td>\n",
       "      <td>-3</td>\n",
       "      <td>0</td>\n",
       "      <td>0</td>\n",
       "      <td>2</td>\n",
       "      <td>1</td>\n",
       "      <td>0</td>\n",
       "      <td>0</td>\n",
       "      <td>0</td>\n",
       "      <td>0</td>\n",
       "      <td>0</td>\n",
       "      <td>0</td>\n",
       "      <td>1</td>\n",
       "    </tr>\n",
       "    <tr>\n",
       "      <th>4</th>\n",
       "      <td>1</td>\n",
       "      <td>13</td>\n",
       "      <td>-4</td>\n",
       "      <td>4</td>\n",
       "      <td>-1</td>\n",
       "      <td>6</td>\n",
       "      <td>-2</td>\n",
       "      <td>0</td>\n",
       "      <td>-1</td>\n",
       "      <td>0</td>\n",
       "      <td>0</td>\n",
       "      <td>-1</td>\n",
       "      <td>0</td>\n",
       "      <td>0</td>\n",
       "      <td>0</td>\n",
       "      <td>0</td>\n",
       "      <td>0</td>\n",
       "      <td>1</td>\n",
       "    </tr>\n",
       "    <tr>\n",
       "      <th>5</th>\n",
       "      <td>1</td>\n",
       "      <td>14</td>\n",
       "      <td>12</td>\n",
       "      <td>11</td>\n",
       "      <td>7</td>\n",
       "      <td>18</td>\n",
       "      <td>17</td>\n",
       "      <td>6</td>\n",
       "      <td>9</td>\n",
       "      <td>19</td>\n",
       "      <td>7</td>\n",
       "      <td>11</td>\n",
       "      <td>0</td>\n",
       "      <td>0</td>\n",
       "      <td>0</td>\n",
       "      <td>0</td>\n",
       "      <td>0</td>\n",
       "      <td>1</td>\n",
       "    </tr>\n",
       "    <tr>\n",
       "      <th>6</th>\n",
       "      <td>1</td>\n",
       "      <td>14</td>\n",
       "      <td>17</td>\n",
       "      <td>11</td>\n",
       "      <td>5</td>\n",
       "      <td>21</td>\n",
       "      <td>4</td>\n",
       "      <td>0</td>\n",
       "      <td>-1</td>\n",
       "      <td>-12</td>\n",
       "      <td>-6</td>\n",
       "      <td>-11</td>\n",
       "      <td>0</td>\n",
       "      <td>0</td>\n",
       "      <td>0</td>\n",
       "      <td>0</td>\n",
       "      <td>0</td>\n",
       "      <td>1</td>\n",
       "    </tr>\n",
       "    <tr>\n",
       "      <th>7</th>\n",
       "      <td>1</td>\n",
       "      <td>15</td>\n",
       "      <td>1</td>\n",
       "      <td>8</td>\n",
       "      <td>-5</td>\n",
       "      <td>10</td>\n",
       "      <td>-15</td>\n",
       "      <td>-3</td>\n",
       "      <td>-11</td>\n",
       "      <td>-20</td>\n",
       "      <td>-3</td>\n",
       "      <td>-9</td>\n",
       "      <td>0</td>\n",
       "      <td>0</td>\n",
       "      <td>0</td>\n",
       "      <td>0</td>\n",
       "      <td>0</td>\n",
       "      <td>1</td>\n",
       "    </tr>\n",
       "  </tbody>\n",
       "</table>\n",
       "</div>"
      ],
      "text/plain": [
       "   user  timestamp  x-axis  y-axis  z-axis  magnitude  v_x  v_y  v_z  a_x  \\\n",
       "3     1         13      -2       5       0          5   -3    0    0    2   \n",
       "4     1         13      -4       4      -1          6   -2    0   -1    0   \n",
       "5     1         14      12      11       7         18   17    6    9   19   \n",
       "6     1         14      17      11       5         21    4    0   -1  -12   \n",
       "7     1         15       1       8      -5         10  -15   -3  -11  -20   \n",
       "\n",
       "   a_y  a_z  activity_Downstairs  activity_Jogging  activity_Sitting  \\\n",
       "3    1    0                    0                 0                 0   \n",
       "4    0   -1                    0                 0                 0   \n",
       "5    7   11                    0                 0                 0   \n",
       "6   -6  -11                    0                 0                 0   \n",
       "7   -3   -9                    0                 0                 0   \n",
       "\n",
       "   activity_Standing  activity_Upstairs  activity_Walking  \n",
       "3                  0                  0                 1  \n",
       "4                  0                  0                 1  \n",
       "5                  0                  0                 1  \n",
       "6                  0                  0                 1  \n",
       "7                  0                  0                 1  "
      ]
     },
     "execution_count": 2,
     "metadata": {},
     "output_type": "execute_result"
    }
   ],
   "source": [
    "df = pd.read_csv(r'Datasets\\Movement\\time_series_data_human_activities.csv')\n",
    "df['magnitude'] = np.sqrt(df['x-axis']**2 + df['y-axis']**2 + df['z-axis']**2)\n",
    "\n",
    "df['v_x'] = df['x-axis'].diff()\n",
    "df['v_y'] = df['y-axis'].diff()\n",
    "df['v_z'] = df['z-axis'].diff()\n",
    "\n",
    "df['a_x'] = df['v_x'].diff()\n",
    "df['a_y'] = df['v_y'].diff()\n",
    "df['a_z'] = df['v_z'].diff()\n",
    "\n",
    "df = pd.get_dummies(df, columns = ['activity'])\n",
    "df = df.iloc[3:]\n",
    "df = df.astype(int)\n",
    "\n",
    "\n",
    "df['timestamp'] = df['timestamp'].apply(lambda x : int(x * 1e-8))\n",
    "\n",
    "df.head()"
   ]
  },
  {
   "cell_type": "code",
   "execution_count": 3,
   "metadata": {},
   "outputs": [
    {
     "data": {
      "text/plain": [
       "Index(['user', 'timestamp', 'x-axis', 'y-axis', 'z-axis', 'magnitude', 'v_x',\n",
       "       'v_y', 'v_z', 'a_x', 'a_y', 'a_z', 'activity_Downstairs',\n",
       "       'activity_Jogging', 'activity_Sitting', 'activity_Standing',\n",
       "       'activity_Upstairs', 'activity_Walking'],\n",
       "      dtype='object')"
      ]
     },
     "execution_count": 3,
     "metadata": {},
     "output_type": "execute_result"
    }
   ],
   "source": [
    "df.columns"
   ]
  },
  {
   "cell_type": "code",
   "execution_count": null,
   "metadata": {},
   "outputs": [],
   "source": [
    "from sklearn.model_selection import train_test_split\n",
    "\n",
    "X = df[['x-axis', 'y-axis', 'z-axis', 'v_x', 'v_y', 'v_z', 'a_x', 'a_y', 'a_z']]\n",
    "y = df[['activity_Downstairs',\n",
    "       'activity_Jogging', 'activity_Sitting', 'activity_Standing',\n",
    "       'activity_Upstairs', 'activity_Walking']][: X.shape[0] - 10]\n",
    "\n",
    "def Real(new, window):\n",
    "    X, y = [], []\n",
    "    for i in range(new.shape[0] - window):\n",
    "        row = np.array(new.iloc[i : i + window, :])\n",
    "        X.append(row)\n",
    "    return np.array(X)\n",
    "\n",
    "X= Real(X, 10)\n",
    "\n",
    "X_train, X_test, y_train, y_test = train_test_split(X, y, test_size = 0.25, shuffle = True)"
   ]
  },
  {
   "cell_type": "code",
   "execution_count": null,
   "metadata": {},
   "outputs": [],
   "source": [
    "# Input Features = [['x-axis', 'y-axis', 'z-axis', 'v_x', 'v_y', 'v_z', 'a_x', 'a_y', 'a_z']]\n",
    "# Output onehot = [['activity_Downstairs', 'activity_Jogging', 'activity_Sitting', 'activity_Standing','activity_Upstairs', 'activity_Walking']]\n",
    "\n",
    "# Input : [[ -2,   5,   0,  -3,   0,   0,   2,   1,   0],\n",
    "    #    [ -4,   4,  -1,  -2,   0,  -1,   0,   0,  -1],\n",
    "    #    [ 12,  11,   7,  17,   6,   9,  19,   7,  11],\n",
    "    #    [ 17,  11,   5,   4,   0,  -1, -12,  -6, -11],\n",
    "    #    [  1,   8,  -5, -15,  -3, -11, -20,  -3,  -9],\n",
    "    #    [ -2,  15,   0,  -4,   7,   4,  11,  10,  16],\n",
    "    #    [ -1,   9,  -1,   1,  -5,  -1,   5, -13,  -6],\n",
    "    #    [  1,  10,   0,   2,   0,   1,   1,   6,   2],\n",
    "    #    [  4,   9,  -1,   2,   0,   0,   0,  -1,  -1],\n",
    "    #    [  4,   7,  -1,   0,  -2,   0,  -1,  -1,   0]]\n",
    "\n",
    "\n",
    "# Output : [[0, 0, 0, 0, 0, 1]]"
   ]
  },
  {
   "cell_type": "code",
   "execution_count": 12,
   "metadata": {},
   "outputs": [
    {
     "data": {
      "text/plain": [
       "((805207, 10, 9), (805207, 6))"
      ]
     },
     "execution_count": 12,
     "metadata": {},
     "output_type": "execute_result"
    }
   ],
   "source": [
    "X_train.shape, y_train.shape"
   ]
  },
  {
   "cell_type": "code",
   "execution_count": 13,
   "metadata": {},
   "outputs": [
    {
     "data": {
      "text/html": [
       "<pre style=\"white-space:pre;overflow-x:auto;line-height:normal;font-family:Menlo,'DejaVu Sans Mono',consolas,'Courier New',monospace\"><span style=\"font-weight: bold\">Model: \"sequential\"</span>\n",
       "</pre>\n"
      ],
      "text/plain": [
       "\u001b[1mModel: \"sequential\"\u001b[0m\n"
      ]
     },
     "metadata": {},
     "output_type": "display_data"
    },
    {
     "data": {
      "text/html": [
       "<pre style=\"white-space:pre;overflow-x:auto;line-height:normal;font-family:Menlo,'DejaVu Sans Mono',consolas,'Courier New',monospace\">┏━━━━━━━━━━━━━━━━━━━━━━━━━━━━━━━━━┳━━━━━━━━━━━━━━━━━━━━━━━━┳━━━━━━━━━━━━━━━┓\n",
       "┃<span style=\"font-weight: bold\"> Layer (type)                    </span>┃<span style=\"font-weight: bold\"> Output Shape           </span>┃<span style=\"font-weight: bold\">       Param # </span>┃\n",
       "┡━━━━━━━━━━━━━━━━━━━━━━━━━━━━━━━━━╇━━━━━━━━━━━━━━━━━━━━━━━━╇━━━━━━━━━━━━━━━┩\n",
       "│ lstm (<span style=\"color: #0087ff; text-decoration-color: #0087ff\">LSTM</span>)                     │ (<span style=\"color: #00d7ff; text-decoration-color: #00d7ff\">None</span>, <span style=\"color: #00af00; text-decoration-color: #00af00\">64</span>)             │        <span style=\"color: #00af00; text-decoration-color: #00af00\">18,944</span> │\n",
       "├─────────────────────────────────┼────────────────────────┼───────────────┤\n",
       "│ dense (<span style=\"color: #0087ff; text-decoration-color: #0087ff\">Dense</span>)                   │ (<span style=\"color: #00d7ff; text-decoration-color: #00d7ff\">None</span>, <span style=\"color: #00af00; text-decoration-color: #00af00\">32</span>)             │         <span style=\"color: #00af00; text-decoration-color: #00af00\">2,080</span> │\n",
       "├─────────────────────────────────┼────────────────────────┼───────────────┤\n",
       "│ dense_1 (<span style=\"color: #0087ff; text-decoration-color: #0087ff\">Dense</span>)                 │ (<span style=\"color: #00d7ff; text-decoration-color: #00d7ff\">None</span>, <span style=\"color: #00af00; text-decoration-color: #00af00\">6</span>)              │           <span style=\"color: #00af00; text-decoration-color: #00af00\">198</span> │\n",
       "└─────────────────────────────────┴────────────────────────┴───────────────┘\n",
       "</pre>\n"
      ],
      "text/plain": [
       "┏━━━━━━━━━━━━━━━━━━━━━━━━━━━━━━━━━┳━━━━━━━━━━━━━━━━━━━━━━━━┳━━━━━━━━━━━━━━━┓\n",
       "┃\u001b[1m \u001b[0m\u001b[1mLayer (type)                   \u001b[0m\u001b[1m \u001b[0m┃\u001b[1m \u001b[0m\u001b[1mOutput Shape          \u001b[0m\u001b[1m \u001b[0m┃\u001b[1m \u001b[0m\u001b[1m      Param #\u001b[0m\u001b[1m \u001b[0m┃\n",
       "┡━━━━━━━━━━━━━━━━━━━━━━━━━━━━━━━━━╇━━━━━━━━━━━━━━━━━━━━━━━━╇━━━━━━━━━━━━━━━┩\n",
       "│ lstm (\u001b[38;5;33mLSTM\u001b[0m)                     │ (\u001b[38;5;45mNone\u001b[0m, \u001b[38;5;34m64\u001b[0m)             │        \u001b[38;5;34m18,944\u001b[0m │\n",
       "├─────────────────────────────────┼────────────────────────┼───────────────┤\n",
       "│ dense (\u001b[38;5;33mDense\u001b[0m)                   │ (\u001b[38;5;45mNone\u001b[0m, \u001b[38;5;34m32\u001b[0m)             │         \u001b[38;5;34m2,080\u001b[0m │\n",
       "├─────────────────────────────────┼────────────────────────┼───────────────┤\n",
       "│ dense_1 (\u001b[38;5;33mDense\u001b[0m)                 │ (\u001b[38;5;45mNone\u001b[0m, \u001b[38;5;34m6\u001b[0m)              │           \u001b[38;5;34m198\u001b[0m │\n",
       "└─────────────────────────────────┴────────────────────────┴───────────────┘\n"
      ]
     },
     "metadata": {},
     "output_type": "display_data"
    },
    {
     "data": {
      "text/html": [
       "<pre style=\"white-space:pre;overflow-x:auto;line-height:normal;font-family:Menlo,'DejaVu Sans Mono',consolas,'Courier New',monospace\"><span style=\"font-weight: bold\"> Total params: </span><span style=\"color: #00af00; text-decoration-color: #00af00\">21,222</span> (82.90 KB)\n",
       "</pre>\n"
      ],
      "text/plain": [
       "\u001b[1m Total params: \u001b[0m\u001b[38;5;34m21,222\u001b[0m (82.90 KB)\n"
      ]
     },
     "metadata": {},
     "output_type": "display_data"
    },
    {
     "data": {
      "text/html": [
       "<pre style=\"white-space:pre;overflow-x:auto;line-height:normal;font-family:Menlo,'DejaVu Sans Mono',consolas,'Courier New',monospace\"><span style=\"font-weight: bold\"> Trainable params: </span><span style=\"color: #00af00; text-decoration-color: #00af00\">21,222</span> (82.90 KB)\n",
       "</pre>\n"
      ],
      "text/plain": [
       "\u001b[1m Trainable params: \u001b[0m\u001b[38;5;34m21,222\u001b[0m (82.90 KB)\n"
      ]
     },
     "metadata": {},
     "output_type": "display_data"
    },
    {
     "data": {
      "text/html": [
       "<pre style=\"white-space:pre;overflow-x:auto;line-height:normal;font-family:Menlo,'DejaVu Sans Mono',consolas,'Courier New',monospace\"><span style=\"font-weight: bold\"> Non-trainable params: </span><span style=\"color: #00af00; text-decoration-color: #00af00\">0</span> (0.00 B)\n",
       "</pre>\n"
      ],
      "text/plain": [
       "\u001b[1m Non-trainable params: \u001b[0m\u001b[38;5;34m0\u001b[0m (0.00 B)\n"
      ]
     },
     "metadata": {},
     "output_type": "display_data"
    }
   ],
   "source": [
    "import tensorflow as tf\n",
    "import keras\n",
    "from keras.callbacks import ModelCheckpoint\n",
    "\n",
    "model = keras.models.Sequential(\n",
    "    [\n",
    "        keras.layers.Input(shape=(X_train.shape[1], X_train.shape[2])),\n",
    "        keras.layers.LSTM(units = 64, return_sequences = False),\n",
    "        keras.layers.Dense(32, activation = 'relu'),\n",
    "        keras.layers.Dense(6, activation = 'softmax')\n",
    "    ]\n",
    ")\n",
    "\n",
    "model.summary()"
   ]
  },
  {
   "cell_type": "code",
   "execution_count": 14,
   "metadata": {},
   "outputs": [
    {
     "name": "stdout",
     "output_type": "stream",
     "text": [
      "Epoch 1/20\n",
      "\u001b[1m25163/25163\u001b[0m \u001b[32m━━━━━━━━━━━━━━━━━━━━\u001b[0m\u001b[37m\u001b[0m \u001b[1m128s\u001b[0m 5ms/step - accuracy: 0.8628 - loss: 0.3871\n",
      "Epoch 2/20\n",
      "\u001b[1m25163/25163\u001b[0m \u001b[32m━━━━━━━━━━━━━━━━━━━━\u001b[0m\u001b[37m\u001b[0m \u001b[1m125s\u001b[0m 5ms/step - accuracy: 0.9306 - loss: 0.2033\n",
      "Epoch 3/20\n",
      "\u001b[1m25163/25163\u001b[0m \u001b[32m━━━━━━━━━━━━━━━━━━━━\u001b[0m\u001b[37m\u001b[0m \u001b[1m119s\u001b[0m 5ms/step - accuracy: 0.9397 - loss: 0.1775\n",
      "Epoch 4/20\n",
      "\u001b[1m25163/25163\u001b[0m \u001b[32m━━━━━━━━━━━━━━━━━━━━\u001b[0m\u001b[37m\u001b[0m \u001b[1m125s\u001b[0m 5ms/step - accuracy: 0.9433 - loss: 0.1649\n",
      "Epoch 5/20\n",
      "\u001b[1m25163/25163\u001b[0m \u001b[32m━━━━━━━━━━━━━━━━━━━━\u001b[0m\u001b[37m\u001b[0m \u001b[1m126s\u001b[0m 5ms/step - accuracy: 0.9468 - loss: 0.1566\n",
      "Epoch 6/20\n",
      "\u001b[1m25163/25163\u001b[0m \u001b[32m━━━━━━━━━━━━━━━━━━━━\u001b[0m\u001b[37m\u001b[0m \u001b[1m124s\u001b[0m 5ms/step - accuracy: 0.9488 - loss: 0.1500\n",
      "Epoch 7/20\n",
      "\u001b[1m25163/25163\u001b[0m \u001b[32m━━━━━━━━━━━━━━━━━━━━\u001b[0m\u001b[37m\u001b[0m \u001b[1m125s\u001b[0m 5ms/step - accuracy: 0.9503 - loss: 0.1456\n",
      "Epoch 8/20\n",
      "\u001b[1m25163/25163\u001b[0m \u001b[32m━━━━━━━━━━━━━━━━━━━━\u001b[0m\u001b[37m\u001b[0m \u001b[1m125s\u001b[0m 5ms/step - accuracy: 0.9507 - loss: 0.1433\n",
      "Epoch 9/20\n",
      "\u001b[1m25163/25163\u001b[0m \u001b[32m━━━━━━━━━━━━━━━━━━━━\u001b[0m\u001b[37m\u001b[0m \u001b[1m122s\u001b[0m 5ms/step - accuracy: 0.9519 - loss: 0.1405\n",
      "Epoch 10/20\n",
      "\u001b[1m25163/25163\u001b[0m \u001b[32m━━━━━━━━━━━━━━━━━━━━\u001b[0m\u001b[37m\u001b[0m \u001b[1m124s\u001b[0m 5ms/step - accuracy: 0.9525 - loss: 0.1379\n",
      "Epoch 11/20\n",
      "\u001b[1m25163/25163\u001b[0m \u001b[32m━━━━━━━━━━━━━━━━━━━━\u001b[0m\u001b[37m\u001b[0m \u001b[1m124s\u001b[0m 5ms/step - accuracy: 0.9530 - loss: 0.1366\n",
      "Epoch 12/20\n",
      "\u001b[1m25163/25163\u001b[0m \u001b[32m━━━━━━━━━━━━━━━━━━━━\u001b[0m\u001b[37m\u001b[0m \u001b[1m84s\u001b[0m 3ms/step - accuracy: 0.9540 - loss: 0.1343\n",
      "Epoch 13/20\n",
      "\u001b[1m25163/25163\u001b[0m \u001b[32m━━━━━━━━━━━━━━━━━━━━\u001b[0m\u001b[37m\u001b[0m \u001b[1m91s\u001b[0m 4ms/step - accuracy: 0.9546 - loss: 0.1334\n",
      "Epoch 14/20\n",
      "\u001b[1m25163/25163\u001b[0m \u001b[32m━━━━━━━━━━━━━━━━━━━━\u001b[0m\u001b[37m\u001b[0m \u001b[1m140s\u001b[0m 6ms/step - accuracy: 0.9543 - loss: 0.1329\n",
      "Epoch 15/20\n",
      "\u001b[1m25163/25163\u001b[0m \u001b[32m━━━━━━━━━━━━━━━━━━━━\u001b[0m\u001b[37m\u001b[0m \u001b[1m151s\u001b[0m 6ms/step - accuracy: 0.9552 - loss: 0.1313\n",
      "Epoch 16/20\n",
      "\u001b[1m25163/25163\u001b[0m \u001b[32m━━━━━━━━━━━━━━━━━━━━\u001b[0m\u001b[37m\u001b[0m \u001b[1m160s\u001b[0m 6ms/step - accuracy: 0.9554 - loss: 0.1298\n",
      "Epoch 17/20\n",
      "\u001b[1m25163/25163\u001b[0m \u001b[32m━━━━━━━━━━━━━━━━━━━━\u001b[0m\u001b[37m\u001b[0m \u001b[1m135s\u001b[0m 5ms/step - accuracy: 0.9551 - loss: 0.1308\n",
      "Epoch 18/20\n",
      "\u001b[1m25163/25163\u001b[0m \u001b[32m━━━━━━━━━━━━━━━━━━━━\u001b[0m\u001b[37m\u001b[0m \u001b[1m133s\u001b[0m 5ms/step - accuracy: 0.9560 - loss: 0.1287\n",
      "Epoch 19/20\n",
      "\u001b[1m25163/25163\u001b[0m \u001b[32m━━━━━━━━━━━━━━━━━━━━\u001b[0m\u001b[37m\u001b[0m \u001b[1m113s\u001b[0m 4ms/step - accuracy: 0.9569 - loss: 0.1277\n",
      "Epoch 20/20\n",
      "\u001b[1m25163/25163\u001b[0m \u001b[32m━━━━━━━━━━━━━━━━━━━━\u001b[0m\u001b[37m\u001b[0m \u001b[1m84s\u001b[0m 3ms/step - accuracy: 0.9562 - loss: 0.1273\n"
     ]
    },
    {
     "data": {
      "text/plain": [
       "<keras.src.callbacks.history.History at 0x22aa04d17f0>"
      ]
     },
     "execution_count": 14,
     "metadata": {},
     "output_type": "execute_result"
    }
   ],
   "source": [
    "cp = ModelCheckpoint('Model.keras', save_best_only = True, monitor = 'loss')\n",
    "\n",
    "model.compile(loss = keras.losses.CategoricalCrossentropy(), optimizer = keras.optimizers.Adam(learning_rate = 0.001), metrics=['accuracy'])\n",
    "\n",
    "model.fit(X_train, y_train, epochs = 20, callbacks = [cp])"
   ]
  },
  {
   "cell_type": "code",
   "execution_count": 18,
   "metadata": {},
   "outputs": [
    {
     "name": "stdout",
     "output_type": "stream",
     "text": [
      "\u001b[1m8388/8388\u001b[0m \u001b[32m━━━━━━━━━━━━━━━━━━━━\u001b[0m\u001b[37m\u001b[0m \u001b[1m16s\u001b[0m 2ms/step - accuracy: 0.9493 - loss: 0.1513\n"
     ]
    },
    {
     "data": {
      "text/plain": [
       "[0.1496715247631073, 0.9499223232269287]"
      ]
     },
     "execution_count": 18,
     "metadata": {},
     "output_type": "execute_result"
    }
   ],
   "source": [
    "model.evaluate(X_test, y_test)"
   ]
  },
  {
   "cell_type": "code",
   "execution_count": null,
   "metadata": {},
   "outputs": [],
   "source": []
  }
 ],
 "metadata": {
  "kernelspec": {
   "display_name": "Python 3",
   "language": "python",
   "name": "python3"
  },
  "language_info": {
   "codemirror_mode": {
    "name": "ipython",
    "version": 3
   },
   "file_extension": ".py",
   "mimetype": "text/x-python",
   "name": "python",
   "nbconvert_exporter": "python",
   "pygments_lexer": "ipython3",
   "version": "3.12.4"
  }
 },
 "nbformat": 4,
 "nbformat_minor": 2
}
